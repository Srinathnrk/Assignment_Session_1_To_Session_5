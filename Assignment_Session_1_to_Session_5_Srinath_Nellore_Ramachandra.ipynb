{
 "cells": [
  {
   "cell_type": "markdown",
   "metadata": {},
   "source": [
    "# 2.1. Problem Statement: PYTHON 1"
   ]
  },
  {
   "cell_type": "markdown",
   "metadata": {},
   "source": [
    "## 1. Install Jupyter notebook and run the first program and share the screenshot of the output."
   ]
  },
  {
   "cell_type": "code",
   "execution_count": 1,
   "metadata": {},
   "outputs": [
    {
     "name": "stdout",
     "output_type": "stream",
     "text": [
      "Hello World\n"
     ]
    }
   ],
   "source": [
    "print('Hello World')"
   ]
  },
  {
   "cell_type": "markdown",
   "metadata": {},
   "source": [
    "## 2. Write a program which will find all such numbers which are divisible by 7 but are not a multiple of 5, between 2000 and 3200 (both included). The numbers obtained should be printed in a comma-separated sequence on a single line."
   ]
  },
  {
   "cell_type": "code",
   "execution_count": 1,
   "metadata": {},
   "outputs": [
    {
     "name": "stdout",
     "output_type": "stream",
     "text": [
      "2002,2009,2016,2023,2037,2044,2051,2058,2072,2079,2086,2093,2107,2114,2121,2128,2142,2149,2156,2163,2177,2184,2191,2198,2212,2219,2226,2233,2247,2254,2261,2268,2282,2289,2296,2303,2317,2324,2331,2338,2352,2359,2366,2373,2387,2394,2401,2408,2422,2429,2436,2443,2457,2464,2471,2478,2492,2499,2506,2513,2527,2534,2541,2548,2562,2569,2576,2583,2597,2604,2611,2618,2632,2639,2646,2653,2667,2674,2681,2688,2702,2709,2716,2723,2737,2744,2751,2758,2772,2779,2786,2793,2807,2814,2821,2828,2842,2849,2856,2863,2877,2884,2891,2898,2912,2919,2926,2933,2947,2954,2961,2968,2982,2989,2996\n"
     ]
    }
   ],
   "source": [
    "result=\"\"\n",
    "for i in range(2000, 3000+1):\n",
    "    if(i%7==0 and i%5!=0):\n",
    "        result += str(i) + \",\"\n",
    "else:\n",
    "    #remove the last comma\n",
    "    if(result[-1] == \",\"):\n",
    "        result = result[:-1]\n",
    "    \n",
    "print(result)\n"
   ]
  },
  {
   "cell_type": "markdown",
   "metadata": {},
   "source": [
    "## 3. Write a Python program to accept the user's first and last name and then getting them printed in the the reverse order with a space between first name and last name."
   ]
  },
  {
   "cell_type": "code",
   "execution_count": 2,
   "metadata": {},
   "outputs": [
    {
     "name": "stdout",
     "output_type": "stream",
     "text": [
      "Enter First Name:Srinath\n",
      "Enter Last Name:Nellore\n",
      "erolleN htanirS\n"
     ]
    }
   ],
   "source": [
    "f_name = input(\"Enter First Name:\")\n",
    "l_name = input(\"Enter Last Name:\")\n",
    "full_name = f_name + ' ' + l_name\n",
    "rev_name = full_name[::-1]\n",
    "print(rev_name)"
   ]
  },
  {
   "cell_type": "markdown",
   "metadata": {},
   "source": [
    "## 4. Write a Python program to find the volume of a sphere with diameter 12 cm. <br>Formula: V=4/3 * π * r 3"
   ]
  },
  {
   "cell_type": "code",
   "execution_count": 5,
   "metadata": {},
   "outputs": [
    {
     "name": "stdout",
     "output_type": "stream",
     "text": [
      "Volume is 904.7786842338603 cubic cm\n"
     ]
    }
   ],
   "source": [
    "import math\n",
    "d=12\n",
    "r=d/2\n",
    "v=(4/3 * math.pi * r**3)\n",
    "\n",
    "print(\"Volume is {} cubic cm\".format(v))"
   ]
  },
  {
   "cell_type": "markdown",
   "metadata": {},
   "source": [
    "# 2.2. Problem Statement: PYTHON 2"
   ]
  },
  {
   "cell_type": "markdown",
   "metadata": {},
   "source": [
    "## 1. Write a program which accepts a sequence of comma-separated numbers from console and generate a list"
   ]
  },
  {
   "cell_type": "code",
   "execution_count": 8,
   "metadata": {},
   "outputs": [
    {
     "name": "stdout",
     "output_type": "stream",
     "text": [
      "Enter a sequence of comma-separated numbers:1,2,e\n",
      "Invalid input, enter only numbers. retry again...\n",
      "Enter a sequence of comma-separated numbers:1, 2,  3\n",
      "[1, 2, 3]\n"
     ]
    }
   ],
   "source": [
    "while(True):\n",
    "    try:\n",
    "        inp_str = input(\"Enter a sequence of comma-separated numbers:\")\n",
    "        num_lst = [int(x) for x in inp_str.split(\",\")]\n",
    "    except:\n",
    "        print(\"Invalid input, enter only numbers. retry again...\")\n",
    "        continue\n",
    "    else:\n",
    "        break\n",
    "\n",
    "print(num_lst)"
   ]
  },
  {
   "cell_type": "markdown",
   "metadata": {},
   "source": [
    "## 2. Create the below pattern using nested for loop in Python.\n",
    "<pre>\n",
    "*\n",
    "** \n",
    "*** \n",
    "**** \n",
    "***** \n",
    "**** \n",
    "*** \n",
    "**\n",
    "*\n",
    "</pre>"
   ]
  },
  {
   "cell_type": "code",
   "execution_count": 9,
   "metadata": {},
   "outputs": [
    {
     "name": "stdout",
     "output_type": "stream",
     "text": [
      "*\n",
      "**\n",
      "***\n",
      "****\n",
      "*****\n",
      "****\n",
      "***\n",
      "**\n",
      "*\n"
     ]
    }
   ],
   "source": [
    "for item in range(1,10):\n",
    "    num = item%5\n",
    "    if(item >= 5):\n",
    "        num = 5 - num   \n",
    "    print('*'*num)"
   ]
  },
  {
   "cell_type": "markdown",
   "metadata": {},
   "source": [
    "## 3. Write a Python program to reverse a word after accepting the input from the user.\n",
    "<pre>\n",
    "Input word: AcadGild \n",
    "Output: dilGdacA\n",
    "</pre>"
   ]
  },
  {
   "cell_type": "code",
   "execution_count": 10,
   "metadata": {},
   "outputs": [
    {
     "name": "stdout",
     "output_type": "stream",
     "text": [
      "Enter a word:AcadGild\n",
      "dliGdacA\n"
     ]
    }
   ],
   "source": [
    "word = input(\"Enter a word:\")\n",
    "print(word[::-1])"
   ]
  },
  {
   "cell_type": "markdown",
   "metadata": {},
   "source": [
    "## 4. Write a Python Program to print the given string in the format specified in the\n",
    "<pre>\n",
    "<b>Sample Input.</b>\n",
    "WE, THE PEOPLE OF INDIA, having solemnly resolved to constitute India into a SOVEREIGN, SOCIALIST, SECULAR, DEMOCRATIC REPUBLIC and to secure to all its citizens\n",
    "\n",
    "<b>Sample Output:</b>\n",
    "WE, THE PEOPLE OF INDIA,\n",
    "    having solemnly resolved to constitute India into a SOVEREIGN, !\n",
    "        SOCIALIST, SECULAR, DEMOCRATIC \n",
    "            REPUBLIC and to secure to all its citizens\n",
    "</pre>"
   ]
  },
  {
   "cell_type": "code",
   "execution_count": 11,
   "metadata": {},
   "outputs": [
    {
     "name": "stdout",
     "output_type": "stream",
     "text": [
      "\n",
      "WE, THE PEOPLE OF INDIA,\n",
      "    having solemnly resolved to constitute India into a SOVEREIGN, !\n",
      "        SOCIALIST, SECULAR, DEMOCRATIC \n",
      "            REPUBLIC and to secure to all its citizens\n",
      "\n"
     ]
    }
   ],
   "source": [
    "output = '''\n",
    "WE, THE PEOPLE OF INDIA,\n",
    "    having solemnly resolved to constitute India into a SOVEREIGN, !\n",
    "        SOCIALIST, SECULAR, DEMOCRATIC \n",
    "            REPUBLIC and to secure to all its citizens\n",
    "'''\n",
    "print(output)"
   ]
  },
  {
   "cell_type": "markdown",
   "metadata": {},
   "source": [
    "# 2.3. Problem Statement: PYTHON 3"
   ]
  },
  {
   "cell_type": "markdown",
   "metadata": {},
   "source": [
    "## 1.1. Write a Python Program to implement your own myreduce() function which works exactly like Python's built-in function reduce()"
   ]
  },
  {
   "cell_type": "code",
   "execution_count": 159,
   "metadata": {},
   "outputs": [
    {
     "name": "stdout",
     "output_type": "stream",
     "text": [
      "28\n"
     ]
    }
   ],
   "source": [
    "def myreduce(func, seq):\n",
    "    if(len(seq)==1):\n",
    "        return seq[0]\n",
    "    \n",
    "    while len(seq)>1:\n",
    "        value = func(seq[0], seq[1])\n",
    "        seq = [value] + seq[2:]\n",
    "    \n",
    "    return seq[0]\n",
    "    \n",
    "    \n",
    "\n",
    "result = myreduce(lambda x,y:x+y, list([1,2,3,4,5,6,7]))\n",
    "print(result)\n",
    "    "
   ]
  },
  {
   "cell_type": "markdown",
   "metadata": {},
   "source": [
    "## 1.2. Write a Python program to implement your own myfilter() function which works exactly like Python's built-in function filter()\n"
   ]
  },
  {
   "cell_type": "code",
   "execution_count": 93,
   "metadata": {},
   "outputs": [
    {
     "data": {
      "text/plain": [
       "[0, 2, 4, 6, 8, 10, 12, 14, 16, 18]"
      ]
     },
     "execution_count": 93,
     "metadata": {},
     "output_type": "execute_result"
    }
   ],
   "source": [
    "def myfilter(func, seq):\n",
    "    lst = list(seq)\n",
    "    for x in seq:\n",
    "        if(not func(x)):\n",
    "            lst.remove(x)\n",
    "            \n",
    "    return lst\n",
    "\n",
    "list(myfilter(lambda x:x%2==0, range(20)))\n",
    "    "
   ]
  },
  {
   "cell_type": "markdown",
   "metadata": {},
   "source": [
    "# 2. Implement List comprehensions to produce the following lists. Write List comprehensions to produce the following Lists.\n",
    "<pre>\n",
    "['A', 'C', 'A', 'D', 'G', 'I', ’L’, ‘ D’]\n",
    "['x', 'xx', 'xxx', 'xxxx', 'y', 'yy', 'yyy', 'yyyy', 'z', 'zz', 'zzz', 'zzzz'] \n",
    "['x', 'y', 'z', 'xx', 'yy', 'zz', 'xxx', 'yyy', 'zzz', 'xxxx', 'yyyy', 'zzzz'] \n",
    "[[2], [3], [4], [3], [4], [5], [4], [5], [6]]\n",
    "[[2, 3, 4, 5], [3, 4, 5, 6], [4, 5, 6, 7], [5, 6, 7, 8]]\n",
    "[(1, 1), (2, 1), (3, 1), (1, 2), (2, 2), (3, 2), (1, 3), (2, 3), (3, 3)]\n",
    "</pre>\n"
   ]
  },
  {
   "cell_type": "code",
   "execution_count": 131,
   "metadata": {},
   "outputs": [
    {
     "name": "stdout",
     "output_type": "stream",
     "text": [
      "['A', 'C', 'A', 'D', 'G', 'I', 'L', 'D']\n",
      "['x', 'xx', 'xxx', 'xxxx', 'y', 'yy', 'yyy', 'yyyy', 'z', 'zz', 'zzz', 'zzzz']\n",
      "['x', 'y', 'z', 'xx', 'yy', 'zz', 'xxx', 'yyy', 'zzz', 'xxxx', 'yyyy', 'zzzz']\n",
      "[[2], [3], [4], [3], [4], [5], [4], [5], [6]]\n",
      "[[2, 3, 4, 5], [3, 4, 5, 6], [4, 5, 6, 7], [5, 6, 7, 8]]\n",
      "[(1, 1), (2, 1), (3, 1), (1, 2), (2, 2), (3, 2), (1, 3), (2, 3), (3, 3)]\n"
     ]
    }
   ],
   "source": [
    "lst1 = [x for x in iter(\"ACADGILD\")]\n",
    "print(lst1)\n",
    "\n",
    "lst2 = [x*y for x in list(['x','y','z']) for y in [1,2,3,4]]\n",
    "print(lst2)\n",
    "\n",
    "lst3 = [x*y for y in [1,2,3,4] for x in ['x','y','z']]\n",
    "print(lst3)\n",
    "\n",
    "lst4=[]\n",
    "[lst4.extend([[x],[x+1],[x+2]]) for x in list([2,3,4])]\n",
    "print(lst4)\n",
    "\n",
    "lst5 = [[x,x+1,x+2,x+3] for x in list([2,3,4,5])]\n",
    "print(lst5)\n",
    "\n",
    "lst6 = [(y,x) for x in [1,2,3] for y in [1,2,3]]\n",
    "print(lst6)\n"
   ]
  },
  {
   "cell_type": "markdown",
   "metadata": {},
   "source": [
    "## 3. Implement a function longestWord() that takes a list of words and returns the longest one.\n"
   ]
  },
  {
   "cell_type": "code",
   "execution_count": 58,
   "metadata": {},
   "outputs": [
    {
     "name": "stdout",
     "output_type": "stream",
     "text": [
      "opportunity\n"
     ]
    }
   ],
   "source": [
    "from functools import reduce\n",
    "def longestWord(lst):\n",
    "    return reduce(lambda x,y: x if len(x)>len(y) else y, lst)\n",
    "\n",
    "result = longestWord([\"This\", \"is\" \"good\", \"opportunity\", \"for\" \"me.\"])\n",
    "print(result)"
   ]
  },
  {
   "cell_type": "markdown",
   "metadata": {},
   "source": [
    "# 2.4. Problem Statement: PYTHON 4"
   ]
  },
  {
   "cell_type": "markdown",
   "metadata": {},
   "source": [
    "## 1.1 Write a Python Program(with class concepts) to find the area of the triangle using the below formula.\n",
    "<pre>\n",
    "area = (s*(s-a)*(s-b)*(s-c)) ** 0.5\n",
    "\n",
    "Function to take the length of the sides of triangle from user should be defined in the parent class and function to calculate the area should be defined in subclass.\n",
    "\n",
    "</pre>"
   ]
  },
  {
   "cell_type": "code",
   "execution_count": 143,
   "metadata": {},
   "outputs": [
    {
     "name": "stdout",
     "output_type": "stream",
     "text": [
      "Enter length of side 1:5\n",
      "Enter length of side 2:5\n",
      "Enter length of side 3:5\n",
      "Area of triangle is 10.825317547305483\n"
     ]
    }
   ],
   "source": [
    "class Triangle:\n",
    "    def __init__(self):\n",
    "        self.a = int(input(\"Enter length of side 1:\"))\n",
    "        self.b = int(input(\"Enter length of side 2:\"))\n",
    "        self.c = int(input(\"Enter length of side 3:\"))\n",
    "        \n",
    "\n",
    "class Area(Triangle):\n",
    "    def __init__(self):\n",
    "        super(Area,self).__init__()\n",
    "        \n",
    "    def area(self):\n",
    "        s=(self.a + self.b + self.c)/2.0\n",
    "        result = (s*(s-self.a)*(s-self.b)*(s-self.c)) ** 0.5\n",
    "        return result\n",
    "    \n",
    "a = Area()\n",
    "print(\"Area of triangle is {}\".format(a.area()))\n",
    "\n",
    "\n",
    "        \n",
    "        "
   ]
  },
  {
   "cell_type": "markdown",
   "metadata": {},
   "source": [
    "## 1.2 Write a function filter_long_words() that takes a list of words and an integer n and returns the list of words that are longer than n."
   ]
  },
  {
   "cell_type": "code",
   "execution_count": 144,
   "metadata": {},
   "outputs": [
    {
     "name": "stdout",
     "output_type": "stream",
     "text": [
      "['world', 'beautiful']\n"
     ]
    }
   ],
   "source": [
    "def filter_long_words(lst, n):\n",
    "    result=[]\n",
    "    for i in range(len(lst)):\n",
    "        if(len(lst[i])>n):\n",
    "            result.append(lst[i])\n",
    "            \n",
    "    return result\n",
    "\n",
    "print(filter_long_words(['This', 'world', 'is', 'very', 'beautiful'],4))\n",
    "            "
   ]
  },
  {
   "cell_type": "markdown",
   "metadata": {},
   "source": [
    "## 2.1 Write a Python program using function concept that maps list of words into a list of integers representing the lengths of the corresponding words.\n",
    "<pre>\n",
    "Hint: If a list [ ab,cde,erty] is passed on to the python function output should come as [2,3,4] \n",
    "Here 2,3 and 4 are the lengths of the words in the list.\n",
    "</pre>"
   ]
  },
  {
   "cell_type": "code",
   "execution_count": 145,
   "metadata": {},
   "outputs": [
    {
     "name": "stdout",
     "output_type": "stream",
     "text": [
      "[4, 5, 2, 4, 9]\n"
     ]
    }
   ],
   "source": [
    "def length_of_words(lst):\n",
    "    result=[]\n",
    "    for x in lst:\n",
    "        result.append(len(x))\n",
    "        \n",
    "    return result\n",
    "\n",
    "print(length_of_words(['This', 'world', 'is', 'very', 'beautiful']))"
   ]
  },
  {
   "cell_type": "markdown",
   "metadata": {},
   "source": [
    "## 2.2 Write a Python function which takes a character (i.e. a string of length 1) and returns True if it is a vowel, False otherwise.\n"
   ]
  },
  {
   "cell_type": "code",
   "execution_count": 150,
   "metadata": {},
   "outputs": [
    {
     "name": "stdout",
     "output_type": "stream",
     "text": [
      "isvowel('i')= True\n",
      "isvowel('b')= False\n",
      "isvowel('O')= True\n"
     ]
    }
   ],
   "source": [
    "def isvowel(c):\n",
    "    vowels = ['a','e','i','o','u','A','E','I','O','U']\n",
    "    return vowels.count(c)>0\n",
    "\n",
    "\n",
    "print(\"isvowel('i')=\", isvowel('i'))\n",
    "print(\"isvowel('b')=\", isvowel('b'))\n",
    "print(\"isvowel('O')=\", isvowel('O'))\n",
    "\n",
    "        "
   ]
  },
  {
   "cell_type": "markdown",
   "metadata": {},
   "source": [
    "# 2.5. Problem Statement: PYTHON 5"
   ]
  },
  {
   "cell_type": "markdown",
   "metadata": {},
   "source": [
    "## 1. Write a function to compute 5/0 and use try/except to catch the exceptions."
   ]
  },
  {
   "cell_type": "code",
   "execution_count": 154,
   "metadata": {},
   "outputs": [
    {
     "name": "stdout",
     "output_type": "stream",
     "text": [
      "ZeroDivisionError has been caught\n"
     ]
    }
   ],
   "source": [
    "def handle_exception():\n",
    "    try:\n",
    "        x=5/0\n",
    "    except ZeroDivisionError:\n",
    "        print(\"ZeroDivisionError has been caught\")\n",
    "        \n",
    "\n",
    "        \n",
    "handle_exception()"
   ]
  },
  {
   "cell_type": "markdown",
   "metadata": {},
   "source": [
    "## 2. Implement a Python program to generate all sentences where subject is in [\"Americans\", \"Indians\"] and verb is in [\"Play\", \"watch\"] and the object is in [\"Baseball\",\"cricket\"].\n",
    "<pre>\n",
    "Hint: Subject,Verb and Object should be declared in the program as shown below.\n",
    "subjects=[\"Americans \",\"Indians\"] \n",
    "verbs=[\"play\",\"watch\"] \n",
    "objects=[\"Baseball\",\"Cricket\"]\n",
    "\n",
    "Output should come as below:\n",
    "Americans play Baseball.\n",
    "Americans play Cricket.\n",
    "Americans watch Baseball.\n",
    "Americans watch Cricket.\n",
    "Indians play Baseball.\n",
    "Indians play Cricket.\n",
    "Indians watch Baseball.\n",
    "Indians watch Cricket.\n",
    "</pre>"
   ]
  },
  {
   "cell_type": "code",
   "execution_count": 156,
   "metadata": {},
   "outputs": [
    {
     "name": "stdout",
     "output_type": "stream",
     "text": [
      "Americans  play Baseball.\n",
      "Americans  play Cricket.\n",
      "Americans  watch Baseball.\n",
      "Americans  watch Cricket.\n",
      "Indians play Baseball.\n",
      "Indians play Cricket.\n",
      "Indians watch Baseball.\n",
      "Indians watch Cricket.\n"
     ]
    }
   ],
   "source": [
    "subjects=[\"Americans \",\"Indians\"] \n",
    "verbs=[\"play\",\"watch\"] \n",
    "objects=[\"Baseball\",\"Cricket\"]\n",
    "\n",
    "for x in subjects:\n",
    "    for y in verbs:\n",
    "        for z in objects:\n",
    "            print(\"{} {} {}.\".format(x,y,z))\n",
    "            "
   ]
  }
 ],
 "metadata": {
  "kernelspec": {
   "display_name": "Python 3",
   "language": "python",
   "name": "python3"
  },
  "language_info": {
   "codemirror_mode": {
    "name": "ipython",
    "version": 3
   },
   "file_extension": ".py",
   "mimetype": "text/x-python",
   "name": "python",
   "nbconvert_exporter": "python",
   "pygments_lexer": "ipython3",
   "version": "3.7.1"
  }
 },
 "nbformat": 4,
 "nbformat_minor": 2
}
